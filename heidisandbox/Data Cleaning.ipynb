{
 "cells": [
  {
   "cell_type": "markdown",
   "metadata": {},
   "source": [
    "# Data Wrangling"
   ]
  },
  {
   "cell_type": "code",
   "execution_count": 61,
   "metadata": {},
   "outputs": [],
   "source": [
    "import pandas as pd\n",
    "import numpy as np\n",
    "import matplotlib.pyplot as plt\n",
    "%matplotlib inline\n",
    "\n",
    "import seaborn as sns\n",
    "\n",
    "data_csv = 'data/scraped_data.csv'\n",
    "\n",
    "df = pd.read_csv(data_csv)\n",
    "raw_df = df # in case this is needed for lookups"
   ]
  },
  {
   "cell_type": "markdown",
   "metadata": {},
   "source": [
    "## Cleaning the data\n",
    "In this section, we remove duplicates as well as columns that are not useful for price prediction, fill empty values, and map column values to numbers."
   ]
  },
  {
   "cell_type": "code",
   "execution_count": 62,
   "metadata": {},
   "outputs": [
    {
     "data": {
      "text/plain": [
       "count    1379.000000\n",
       "mean     2083.573604\n",
       "std       851.479067\n",
       "min       430.000000\n",
       "25%      1500.000000\n",
       "50%      1800.000000\n",
       "75%      2500.000000\n",
       "max      7000.000000\n",
       "Name: price, dtype: float64"
      ]
     },
     "execution_count": 62,
     "metadata": {},
     "output_type": "execute_result"
    }
   ],
   "source": [
    "df['price'].describe()"
   ]
  },
  {
   "cell_type": "code",
   "execution_count": 68,
   "metadata": {
    "scrolled": true
   },
   "outputs": [
    {
     "name": "stdout",
     "output_type": "stream",
     "text": [
      "<class 'pandas.core.frame.DataFrame'>\n",
      "Int64Index: 1348 entries, 0 to 1378\n",
      "Data columns (total 29 columns):\n",
      "property_title              1348 non-null object\n",
      "seller_id                   1348 non-null float64\n",
      "seller_type                 1348 non-null float64\n",
      "open_viewing                1348 non-null float64\n",
      "no_of_photos                1348 non-null float64\n",
      "available_from              1348 non-null object\n",
      "available_for               1348 non-null float64\n",
      "area                        1348 non-null float64\n",
      "furnished                   1348 non-null float64\n",
      "bathrooms                   1348 non-null float64\n",
      "beds                        1348 non-null float64\n",
      "price_frequency             1348 non-null object\n",
      "price                       1348 non-null float64\n",
      "Parking                     1348 non-null float64\n",
      "Cable Television            1348 non-null float64\n",
      "Dryer                       1348 non-null float64\n",
      "Garden / Patio / Balcony    1348 non-null float64\n",
      "Washing Machine             1348 non-null float64\n",
      "Serviced Property           1348 non-null float64\n",
      "Pets Allowed                1348 non-null float64\n",
      "Wheelchair Access           1348 non-null float64\n",
      "Central Heating             1348 non-null float64\n",
      "Microwave                   1348 non-null float64\n",
      "Smoking                     1348 non-null float64\n",
      "Dishwasher                  1348 non-null float64\n",
      "House Alarm                 1348 non-null float64\n",
      "Internet                    1348 non-null float64\n",
      "property_description        1348 non-null object\n",
      "pricerange                  1348 non-null int64\n",
      "dtypes: float64(24), int64(1), object(4)\n",
      "memory usage: 315.9+ KB\n",
      "None\n"
     ]
    },
    {
     "data": {
      "text/html": [
       "<div>\n",
       "<style>\n",
       "    .dataframe thead tr:only-child th {\n",
       "        text-align: right;\n",
       "    }\n",
       "\n",
       "    .dataframe thead th {\n",
       "        text-align: left;\n",
       "    }\n",
       "\n",
       "    .dataframe tbody tr th {\n",
       "        vertical-align: top;\n",
       "    }\n",
       "</style>\n",
       "<table border=\"1\" class=\"dataframe\">\n",
       "  <thead>\n",
       "    <tr style=\"text-align: right;\">\n",
       "      <th></th>\n",
       "      <th>property_title</th>\n",
       "      <th>seller_id</th>\n",
       "      <th>seller_type</th>\n",
       "      <th>open_viewing</th>\n",
       "      <th>no_of_photos</th>\n",
       "      <th>available_from</th>\n",
       "      <th>available_for</th>\n",
       "      <th>area</th>\n",
       "      <th>furnished</th>\n",
       "      <th>bathrooms</th>\n",
       "      <th>...</th>\n",
       "      <th>Pets Allowed</th>\n",
       "      <th>Wheelchair Access</th>\n",
       "      <th>Central Heating</th>\n",
       "      <th>Microwave</th>\n",
       "      <th>Smoking</th>\n",
       "      <th>Dishwasher</th>\n",
       "      <th>House Alarm</th>\n",
       "      <th>Internet</th>\n",
       "      <th>property_description</th>\n",
       "      <th>pricerange</th>\n",
       "    </tr>\n",
       "  </thead>\n",
       "  <tbody>\n",
       "    <tr>\n",
       "      <th>0</th>\n",
       "      <td>1 BED, Tallaght Cross West, Tallaght, Dublin 24</td>\n",
       "      <td>9871.0</td>\n",
       "      <td>1.0</td>\n",
       "      <td>0.0</td>\n",
       "      <td>3.0</td>\n",
       "      <td>2017-10-01</td>\n",
       "      <td>12.0</td>\n",
       "      <td>66.0</td>\n",
       "      <td>0.0</td>\n",
       "      <td>1.0</td>\n",
       "      <td>...</td>\n",
       "      <td>0.0</td>\n",
       "      <td>0.0</td>\n",
       "      <td>1.0</td>\n",
       "      <td>1.0</td>\n",
       "      <td>0.0</td>\n",
       "      <td>1.0</td>\n",
       "      <td>0.0</td>\n",
       "      <td>0.0</td>\n",
       "      <td>*** UNFURNISHED***   Irish Residential Propert...</td>\n",
       "      <td>1</td>\n",
       "    </tr>\n",
       "    <tr>\n",
       "      <th>1</th>\n",
       "      <td>1 Palace Street, Dublin 2, Dublin 2</td>\n",
       "      <td>7549.0</td>\n",
       "      <td>1.0</td>\n",
       "      <td>0.0</td>\n",
       "      <td>6.0</td>\n",
       "      <td>2017-09-15</td>\n",
       "      <td>12.0</td>\n",
       "      <td>65.0</td>\n",
       "      <td>1.0</td>\n",
       "      <td>1.0</td>\n",
       "      <td>...</td>\n",
       "      <td>0.0</td>\n",
       "      <td>0.0</td>\n",
       "      <td>1.0</td>\n",
       "      <td>1.0</td>\n",
       "      <td>0.0</td>\n",
       "      <td>0.0</td>\n",
       "      <td>0.0</td>\n",
       "      <td>1.0</td>\n",
       "      <td>***** HERBERT PROPERTY SERVICES****are delight...</td>\n",
       "      <td>2</td>\n",
       "    </tr>\n",
       "    <tr>\n",
       "      <th>2</th>\n",
       "      <td>10 Clarinda House, Clarinda Park West, Dun Lao...</td>\n",
       "      <td>0.0</td>\n",
       "      <td>0.0</td>\n",
       "      <td>0.0</td>\n",
       "      <td>8.0</td>\n",
       "      <td>2017-09-18</td>\n",
       "      <td>6.0</td>\n",
       "      <td>9.0</td>\n",
       "      <td>1.0</td>\n",
       "      <td>1.0</td>\n",
       "      <td>...</td>\n",
       "      <td>0.0</td>\n",
       "      <td>0.0</td>\n",
       "      <td>1.0</td>\n",
       "      <td>1.0</td>\n",
       "      <td>0.0</td>\n",
       "      <td>0.0</td>\n",
       "      <td>0.0</td>\n",
       "      <td>1.0</td>\n",
       "      <td>Rating to be updated (new windows to be delive...</td>\n",
       "      <td>1</td>\n",
       "    </tr>\n",
       "    <tr>\n",
       "      <th>3</th>\n",
       "      <td>10  Gandon Hall, Gardners Street, Dublin 1, Du...</td>\n",
       "      <td>0.0</td>\n",
       "      <td>0.0</td>\n",
       "      <td>0.0</td>\n",
       "      <td>5.0</td>\n",
       "      <td>2017-10-06</td>\n",
       "      <td>0.0</td>\n",
       "      <td>72.0</td>\n",
       "      <td>1.0</td>\n",
       "      <td>1.0</td>\n",
       "      <td>...</td>\n",
       "      <td>0.0</td>\n",
       "      <td>1.0</td>\n",
       "      <td>1.0</td>\n",
       "      <td>1.0</td>\n",
       "      <td>0.0</td>\n",
       "      <td>0.0</td>\n",
       "      <td>0.0</td>\n",
       "      <td>1.0</td>\n",
       "      <td>SHORT TERM OR LONG TERM LETTING-A renovated on...</td>\n",
       "      <td>1</td>\n",
       "    </tr>\n",
       "    <tr>\n",
       "      <th>4</th>\n",
       "      <td>10 The Clayton, The Gasworks, Barrow Street, D...</td>\n",
       "      <td>0.0</td>\n",
       "      <td>0.0</td>\n",
       "      <td>0.0</td>\n",
       "      <td>7.0</td>\n",
       "      <td>2017-11-10</td>\n",
       "      <td>12.0</td>\n",
       "      <td>23.0</td>\n",
       "      <td>1.0</td>\n",
       "      <td>2.0</td>\n",
       "      <td>...</td>\n",
       "      <td>0.0</td>\n",
       "      <td>0.0</td>\n",
       "      <td>1.0</td>\n",
       "      <td>1.0</td>\n",
       "      <td>0.0</td>\n",
       "      <td>1.0</td>\n",
       "      <td>0.0</td>\n",
       "      <td>1.0</td>\n",
       "      <td>CLAYTON, THE GASWORKS, BARROW STREET, DUBLIN 4...</td>\n",
       "      <td>2</td>\n",
       "    </tr>\n",
       "  </tbody>\n",
       "</table>\n",
       "<p>5 rows × 29 columns</p>\n",
       "</div>"
      ],
      "text/plain": [
       "                                      property_title  seller_id  seller_type  \\\n",
       "0    1 BED, Tallaght Cross West, Tallaght, Dublin 24     9871.0          1.0   \n",
       "1                1 Palace Street, Dublin 2, Dublin 2     7549.0          1.0   \n",
       "2  10 Clarinda House, Clarinda Park West, Dun Lao...        0.0          0.0   \n",
       "3  10  Gandon Hall, Gardners Street, Dublin 1, Du...        0.0          0.0   \n",
       "4  10 The Clayton, The Gasworks, Barrow Street, D...        0.0          0.0   \n",
       "\n",
       "   open_viewing  no_of_photos available_from  available_for  area  furnished  \\\n",
       "0           0.0           3.0     2017-10-01           12.0  66.0        0.0   \n",
       "1           0.0           6.0     2017-09-15           12.0  65.0        1.0   \n",
       "2           0.0           8.0     2017-09-18            6.0   9.0        1.0   \n",
       "3           0.0           5.0     2017-10-06            0.0  72.0        1.0   \n",
       "4           0.0           7.0     2017-11-10           12.0  23.0        1.0   \n",
       "\n",
       "   bathrooms     ...      Pets Allowed Wheelchair Access  Central Heating  \\\n",
       "0        1.0     ...               0.0               0.0              1.0   \n",
       "1        1.0     ...               0.0               0.0              1.0   \n",
       "2        1.0     ...               0.0               0.0              1.0   \n",
       "3        1.0     ...               0.0               1.0              1.0   \n",
       "4        2.0     ...               0.0               0.0              1.0   \n",
       "\n",
       "   Microwave  Smoking  Dishwasher  House Alarm  Internet  \\\n",
       "0        1.0      0.0         1.0          0.0       0.0   \n",
       "1        1.0      0.0         0.0          0.0       1.0   \n",
       "2        1.0      0.0         0.0          0.0       1.0   \n",
       "3        1.0      0.0         0.0          0.0       1.0   \n",
       "4        1.0      0.0         1.0          0.0       1.0   \n",
       "\n",
       "                                property_description  pricerange  \n",
       "0  *** UNFURNISHED***   Irish Residential Propert...           1  \n",
       "1  ***** HERBERT PROPERTY SERVICES****are delight...           2  \n",
       "2  Rating to be updated (new windows to be delive...           1  \n",
       "3  SHORT TERM OR LONG TERM LETTING-A renovated on...           1  \n",
       "4  CLAYTON, THE GASWORKS, BARROW STREET, DUBLIN 4...           2  \n",
       "\n",
       "[5 rows x 29 columns]"
      ]
     },
     "execution_count": 68,
     "metadata": {},
     "output_type": "execute_result"
    }
   ],
   "source": [
    "df = raw_df\n",
    "# Remove duplidate rows\n",
    "df = df.drop_duplicates()\n",
    "\n",
    "# Drop some not very useful columns;\n",
    "# These are columns that always have the same value (e.g. county will always be Dublin), \n",
    "# or columns that don't seem to correlate with the price at all\n",
    "df = df.drop(['property_id','environment','page_name','platform',\n",
    "             'property_category','seller_name','published_date','facility',\n",
    "             'property_type','lease_units','county','currency','longitude','latitude'],1) \n",
    "\n",
    "# Get dictionary of unique areas\n",
    "areas = set(df['area'])\n",
    "areas_dict = {x:float(i) for i,x in enumerate(areas)}\n",
    "df['area'] = df['area'].map(areas_dict)\n",
    "\n",
    "# Remove superexpensive exceptions\n",
    "df = df.loc[df['price'] < 4300]\n",
    "df = df.loc[df['price'] >= 500]\n",
    "\n",
    "# Replace 'seller_type' values with numbers\n",
    "df['seller_type'] = df['seller_type'].map({'agent': 1.0, 'private': 0.0})\n",
    "\n",
    "# Replace 'furnished' values with numbers\n",
    "df['furnished'] = df['furnished'].map({'yes': 1.0, 'no': 0.0, 'either': 3.0})\n",
    "\n",
    "# Replace 'open_viewing' values with numbers\n",
    "df['open_viewing'] = df['open_viewing'].map({'yes': 1.0, 'no': 0.0})\n",
    "\n",
    "# Convert int values to floats\n",
    "df['no_of_photos'] = df['no_of_photos'].astype(float)\n",
    "df['available_for'] = df['available_for'].astype(float)\n",
    "df['price'] = df['price'].astype(float)\n",
    "df['beds'] = df['beds'].astype(float)\n",
    "df['bathrooms'] = df['bathrooms'].astype(float)\n",
    "\n",
    "# Replace True values with 1, False and NaN with 0\n",
    "df = df.replace({True:1.0}).replace({False:0.0}).fillna(0.0)\n",
    "\n",
    "# Adding pricerange column\n",
    "df['pricerange'] = 4\n",
    "df.loc[df['price'] < 1000, 'pricerange'] = 0\n",
    "df.loc[(df['price'] > 999) & (df['price'] < 2000), 'pricerange'] = 1\n",
    "df.loc[(df['price'] > 1999) & (df['price'] < 3000), 'pricerange'] = 2\n",
    "df.loc[(df['price'] > 2999) & (df['price'] < 4000), 'pricerange'] = 3\n",
    "print(df.info())\n",
    "df.head()"
   ]
  },
  {
   "cell_type": "code",
   "execution_count": 69,
   "metadata": {},
   "outputs": [
    {
     "name": "stdout",
     "output_type": "stream",
     "text": [
      "Dimension of train data (1348, 29)\n"
     ]
    }
   ],
   "source": [
    "print (\"Dimension of train data {}\".format(df.shape))"
   ]
  },
  {
   "cell_type": "code",
   "execution_count": 70,
   "metadata": {},
   "outputs": [
    {
     "name": "stdout",
     "output_type": "stream",
     "text": [
      "['property_title' 'seller_id' 'seller_type' 'open_viewing' 'no_of_photos'\n",
      " 'available_from' 'available_for' 'area' 'furnished' 'bathrooms' 'beds'\n",
      " 'price_frequency' 'price' 'Parking' 'Cable Television' 'Dryer'\n",
      " 'Garden / Patio / Balcony' 'Washing Machine' 'Serviced Property'\n",
      " 'Pets Allowed' 'Wheelchair Access' 'Central Heating' 'Microwave' 'Smoking'\n",
      " 'Dishwasher' 'House Alarm' 'Internet' 'property_description' 'pricerange']\n"
     ]
    }
   ],
   "source": [
    "print(df.columns.values)"
   ]
  },
  {
   "cell_type": "markdown",
   "metadata": {},
   "source": [
    "## Splitting the data into weekly and monthly rentals"
   ]
  },
  {
   "cell_type": "code",
   "execution_count": 71,
   "metadata": {},
   "outputs": [
    {
     "name": "stdout",
     "output_type": "stream",
     "text": [
      "(183, 28)\n",
      "(1164, 28)\n"
     ]
    }
   ],
   "source": [
    "df_weekly_rates = df.loc[df['price_frequency'] == 'weekly']\n",
    "df_weekly_rates = df_weekly_rates.drop('price_frequency', 1)\n",
    "print(df_weekly_rates.shape)\n",
    "\n",
    "df_monthly_rates = df.loc[df['price_frequency'] == 'monthly']\n",
    "df_monthly_rates = df_monthly_rates.drop('price_frequency', 1)\n",
    "\n",
    "# There seems to be an ad with 47 beds for 750/months. removing this\n",
    "df_monthly_rates = df_monthly_rates[df_monthly_rates.beds < 20]\n",
    "print(df_monthly_rates.shape)"
   ]
  },
  {
   "cell_type": "markdown",
   "metadata": {
    "collapsed": true
   },
   "source": [
    "## Save data as CSVs"
   ]
  },
  {
   "cell_type": "code",
   "execution_count": 72,
   "metadata": {},
   "outputs": [],
   "source": [
    "import json\n",
    "df_monthly_rates.to_csv('data/cleaned_monthly.csv')\n",
    "json.dump(areas_dict, open('data/areas_dict.csv','w'))"
   ]
  },
  {
   "cell_type": "code",
   "execution_count": null,
   "metadata": {},
   "outputs": [],
   "source": []
  }
 ],
 "metadata": {
  "kernelspec": {
   "display_name": "Python 3",
   "language": "python",
   "name": "python3"
  },
  "language_info": {
   "codemirror_mode": {
    "name": "ipython",
    "version": 3
   },
   "file_extension": ".py",
   "mimetype": "text/x-python",
   "name": "python",
   "nbconvert_exporter": "python",
   "pygments_lexer": "ipython3",
   "version": "3.6.1"
  }
 },
 "nbformat": 4,
 "nbformat_minor": 2
}
