{
 "cells": [
  {
   "cell_type": "markdown",
   "metadata": {},
   "source": [
    "# Data Modelling"
   ]
  },
  {
   "cell_type": "code",
   "execution_count": 1,
   "metadata": {},
   "outputs": [
    {
     "data": {
      "text/plain": [
       "(1164, 28)"
      ]
     },
     "execution_count": 1,
     "metadata": {},
     "output_type": "execute_result"
    }
   ],
   "source": [
    "import pandas as pd\n",
    "import numpy as np\n",
    "import matplotlib.pyplot as plt\n",
    "%matplotlib inline\n",
    "\n",
    "import seaborn as sns\n",
    "\n",
    "cleand_data_csv = 'data/cleaned_monthly.csv'\n",
    "df = pd.read_csv(cleand_data_csv, index_col=0)\n",
    "raw_df = df\n",
    "df.shape"
   ]
  },
  {
   "cell_type": "code",
   "execution_count": 2,
   "metadata": {},
   "outputs": [
    {
     "data": {
      "text/html": [
       "<div>\n",
       "<style>\n",
       "    .dataframe thead tr:only-child th {\n",
       "        text-align: right;\n",
       "    }\n",
       "\n",
       "    .dataframe thead th {\n",
       "        text-align: left;\n",
       "    }\n",
       "\n",
       "    .dataframe tbody tr th {\n",
       "        vertical-align: top;\n",
       "    }\n",
       "</style>\n",
       "<table border=\"1\" class=\"dataframe\">\n",
       "  <thead>\n",
       "    <tr style=\"text-align: right;\">\n",
       "      <th></th>\n",
       "      <th>property_title</th>\n",
       "      <th>seller_id</th>\n",
       "      <th>seller_type</th>\n",
       "      <th>open_viewing</th>\n",
       "      <th>no_of_photos</th>\n",
       "      <th>available_from</th>\n",
       "      <th>available_for</th>\n",
       "      <th>area</th>\n",
       "      <th>furnished</th>\n",
       "      <th>bathrooms</th>\n",
       "      <th>...</th>\n",
       "      <th>Pets Allowed</th>\n",
       "      <th>Wheelchair Access</th>\n",
       "      <th>Central Heating</th>\n",
       "      <th>Microwave</th>\n",
       "      <th>Smoking</th>\n",
       "      <th>Dishwasher</th>\n",
       "      <th>House Alarm</th>\n",
       "      <th>Internet</th>\n",
       "      <th>property_description</th>\n",
       "      <th>pricerange</th>\n",
       "    </tr>\n",
       "  </thead>\n",
       "  <tbody>\n",
       "    <tr>\n",
       "      <th>0</th>\n",
       "      <td>1 BED, Tallaght Cross West, Tallaght, Dublin 24</td>\n",
       "      <td>9871.0</td>\n",
       "      <td>1.0</td>\n",
       "      <td>0.0</td>\n",
       "      <td>3.0</td>\n",
       "      <td>2017-10-01</td>\n",
       "      <td>12.0</td>\n",
       "      <td>66.0</td>\n",
       "      <td>0.0</td>\n",
       "      <td>1.0</td>\n",
       "      <td>...</td>\n",
       "      <td>0.0</td>\n",
       "      <td>0.0</td>\n",
       "      <td>1.0</td>\n",
       "      <td>1.0</td>\n",
       "      <td>0.0</td>\n",
       "      <td>1.0</td>\n",
       "      <td>0.0</td>\n",
       "      <td>0.0</td>\n",
       "      <td>*** UNFURNISHED***   Irish Residential Propert...</td>\n",
       "      <td>1</td>\n",
       "    </tr>\n",
       "    <tr>\n",
       "      <th>1</th>\n",
       "      <td>1 Palace Street, Dublin 2, Dublin 2</td>\n",
       "      <td>7549.0</td>\n",
       "      <td>1.0</td>\n",
       "      <td>0.0</td>\n",
       "      <td>6.0</td>\n",
       "      <td>2017-09-15</td>\n",
       "      <td>12.0</td>\n",
       "      <td>65.0</td>\n",
       "      <td>1.0</td>\n",
       "      <td>1.0</td>\n",
       "      <td>...</td>\n",
       "      <td>0.0</td>\n",
       "      <td>0.0</td>\n",
       "      <td>1.0</td>\n",
       "      <td>1.0</td>\n",
       "      <td>0.0</td>\n",
       "      <td>0.0</td>\n",
       "      <td>0.0</td>\n",
       "      <td>1.0</td>\n",
       "      <td>***** HERBERT PROPERTY SERVICES****are delight...</td>\n",
       "      <td>2</td>\n",
       "    </tr>\n",
       "    <tr>\n",
       "      <th>2</th>\n",
       "      <td>10 Clarinda House, Clarinda Park West, Dun Lao...</td>\n",
       "      <td>0.0</td>\n",
       "      <td>0.0</td>\n",
       "      <td>0.0</td>\n",
       "      <td>8.0</td>\n",
       "      <td>2017-09-18</td>\n",
       "      <td>6.0</td>\n",
       "      <td>9.0</td>\n",
       "      <td>1.0</td>\n",
       "      <td>1.0</td>\n",
       "      <td>...</td>\n",
       "      <td>0.0</td>\n",
       "      <td>0.0</td>\n",
       "      <td>1.0</td>\n",
       "      <td>1.0</td>\n",
       "      <td>0.0</td>\n",
       "      <td>0.0</td>\n",
       "      <td>0.0</td>\n",
       "      <td>1.0</td>\n",
       "      <td>Rating to be updated (new windows to be delive...</td>\n",
       "      <td>1</td>\n",
       "    </tr>\n",
       "    <tr>\n",
       "      <th>3</th>\n",
       "      <td>10  Gandon Hall, Gardners Street, Dublin 1, Du...</td>\n",
       "      <td>0.0</td>\n",
       "      <td>0.0</td>\n",
       "      <td>0.0</td>\n",
       "      <td>5.0</td>\n",
       "      <td>2017-10-06</td>\n",
       "      <td>0.0</td>\n",
       "      <td>72.0</td>\n",
       "      <td>1.0</td>\n",
       "      <td>1.0</td>\n",
       "      <td>...</td>\n",
       "      <td>0.0</td>\n",
       "      <td>1.0</td>\n",
       "      <td>1.0</td>\n",
       "      <td>1.0</td>\n",
       "      <td>0.0</td>\n",
       "      <td>0.0</td>\n",
       "      <td>0.0</td>\n",
       "      <td>1.0</td>\n",
       "      <td>SHORT TERM OR LONG TERM LETTING-A renovated on...</td>\n",
       "      <td>1</td>\n",
       "    </tr>\n",
       "    <tr>\n",
       "      <th>4</th>\n",
       "      <td>10 The Clayton, The Gasworks, Barrow Street, D...</td>\n",
       "      <td>0.0</td>\n",
       "      <td>0.0</td>\n",
       "      <td>0.0</td>\n",
       "      <td>7.0</td>\n",
       "      <td>2017-11-10</td>\n",
       "      <td>12.0</td>\n",
       "      <td>23.0</td>\n",
       "      <td>1.0</td>\n",
       "      <td>2.0</td>\n",
       "      <td>...</td>\n",
       "      <td>0.0</td>\n",
       "      <td>0.0</td>\n",
       "      <td>1.0</td>\n",
       "      <td>1.0</td>\n",
       "      <td>0.0</td>\n",
       "      <td>1.0</td>\n",
       "      <td>0.0</td>\n",
       "      <td>1.0</td>\n",
       "      <td>CLAYTON, THE GASWORKS, BARROW STREET, DUBLIN 4...</td>\n",
       "      <td>2</td>\n",
       "    </tr>\n",
       "  </tbody>\n",
       "</table>\n",
       "<p>5 rows × 28 columns</p>\n",
       "</div>"
      ],
      "text/plain": [
       "                                      property_title  seller_id  seller_type  \\\n",
       "0    1 BED, Tallaght Cross West, Tallaght, Dublin 24     9871.0          1.0   \n",
       "1                1 Palace Street, Dublin 2, Dublin 2     7549.0          1.0   \n",
       "2  10 Clarinda House, Clarinda Park West, Dun Lao...        0.0          0.0   \n",
       "3  10  Gandon Hall, Gardners Street, Dublin 1, Du...        0.0          0.0   \n",
       "4  10 The Clayton, The Gasworks, Barrow Street, D...        0.0          0.0   \n",
       "\n",
       "   open_viewing  no_of_photos available_from  available_for  area  furnished  \\\n",
       "0           0.0           3.0     2017-10-01           12.0  66.0        0.0   \n",
       "1           0.0           6.0     2017-09-15           12.0  65.0        1.0   \n",
       "2           0.0           8.0     2017-09-18            6.0   9.0        1.0   \n",
       "3           0.0           5.0     2017-10-06            0.0  72.0        1.0   \n",
       "4           0.0           7.0     2017-11-10           12.0  23.0        1.0   \n",
       "\n",
       "   bathrooms     ...      Pets Allowed  Wheelchair Access  Central Heating  \\\n",
       "0        1.0     ...               0.0                0.0              1.0   \n",
       "1        1.0     ...               0.0                0.0              1.0   \n",
       "2        1.0     ...               0.0                0.0              1.0   \n",
       "3        1.0     ...               0.0                1.0              1.0   \n",
       "4        2.0     ...               0.0                0.0              1.0   \n",
       "\n",
       "   Microwave  Smoking  Dishwasher  House Alarm  Internet  \\\n",
       "0        1.0      0.0         1.0          0.0       0.0   \n",
       "1        1.0      0.0         0.0          0.0       1.0   \n",
       "2        1.0      0.0         0.0          0.0       1.0   \n",
       "3        1.0      0.0         0.0          0.0       1.0   \n",
       "4        1.0      0.0         1.0          0.0       1.0   \n",
       "\n",
       "                                property_description  pricerange  \n",
       "0  *** UNFURNISHED***   Irish Residential Propert...           1  \n",
       "1  ***** HERBERT PROPERTY SERVICES****are delight...           2  \n",
       "2  Rating to be updated (new windows to be delive...           1  \n",
       "3  SHORT TERM OR LONG TERM LETTING-A renovated on...           1  \n",
       "4  CLAYTON, THE GASWORKS, BARROW STREET, DUBLIN 4...           2  \n",
       "\n",
       "[5 rows x 28 columns]"
      ]
     },
     "execution_count": 2,
     "metadata": {},
     "output_type": "execute_result"
    }
   ],
   "source": [
    "df.head()"
   ]
  },
  {
   "cell_type": "code",
   "execution_count": 3,
   "metadata": {},
   "outputs": [
    {
     "name": "stdout",
     "output_type": "stream",
     "text": [
      "['property_title' 'seller_id' 'seller_type' 'open_viewing' 'no_of_photos'\n",
      " 'available_from' 'available_for' 'area' 'furnished' 'bathrooms' 'beds'\n",
      " 'price' 'Parking' 'Cable Television' 'Dryer' 'Garden / Patio / Balcony'\n",
      " 'Washing Machine' 'Serviced Property' 'Pets Allowed' 'Wheelchair Access'\n",
      " 'Central Heating' 'Microwave' 'Smoking' 'Dishwasher' 'House Alarm'\n",
      " 'Internet' 'property_description' 'pricerange']\n"
     ]
    }
   ],
   "source": [
    "print(df.columns.values)"
   ]
  },
  {
   "cell_type": "markdown",
   "metadata": {},
   "source": [
    "## Price Range prediction based on description text"
   ]
  },
  {
   "cell_type": "code",
   "execution_count": 4,
   "metadata": {},
   "outputs": [
    {
     "name": "stdout",
     "output_type": "stream",
     "text": [
      "[nltk_data] Downloading package punkt to\n",
      "[nltk_data]     /Users/heididuchting/nltk_data...\n",
      "[nltk_data]   Package punkt is already up-to-date!\n"
     ]
    }
   ],
   "source": [
    "from sklearn.metrics import accuracy_score\n",
    "from sklearn.model_selection import train_test_split\n",
    "from tpot import TPOTClassifier\n",
    "from sklearn.naive_bayes import MultinomialNB\n",
    "from sklearn.ensemble import RandomForestClassifier\n",
    "from sklearn.feature_extraction.text import TfidfVectorizer\n",
    "import nltk\n",
    "from sklearn.externals import joblib\n",
    "nltk.download('punkt')\n",
    "\n",
    "\n",
    "# Clean property_description text\n",
    "def clean_text(desc_text):\n",
    "    desc_text_clean = desc_text.str.replace(\"[-&().,!*//\\\\-?;+€'`:]\",\" \").str.lower()\n",
    "    desc_text_clean = desc_text_clean.str.replace(\"\\d\",\" \")\n",
    "    desc_text_clean = desc_text_clean.str.replace(\"accomodation\",\"accommodation\")\n",
    "    \n",
    "    return desc_text_clean\n",
    "\n",
    "desc_text_clean = clean_text(df['property_description'])\n",
    "\n",
    "from collections import Counter   \n",
    "wordlist = []\n",
    "for row in desc_text_clean:\n",
    "    wordlist += row.split()\n",
    "\n",
    "#print(Counter(wordlist))"
   ]
  },
  {
   "cell_type": "code",
   "execution_count": 5,
   "metadata": {},
   "outputs": [
    {
     "name": "stdout",
     "output_type": "stream",
     "text": [
      "(1164, 1000)\n"
     ]
    }
   ],
   "source": [
    "# Vectorize the text data\n",
    "def get_vectorized_data(textdata):\n",
    "    vectorizer = TfidfVectorizer(\n",
    "        stop_words=None, tokenizer=nltk.word_tokenize, min_df=0.01, max_features=1000)\n",
    "    desc_vect = vectorizer.fit_transform(textdata)\n",
    "    vocab = vectorizer.get_feature_names() \n",
    "    \n",
    "    return desc_vect\n",
    "\n",
    "desc_vect = get_vectorized_data(desc_text_clean)\n",
    "print(desc_vect.shape)"
   ]
  },
  {
   "cell_type": "markdown",
   "metadata": {},
   "source": [
    "The next step is building and saving the model for pricerange prediction by description text;\n",
    "Uncomment when this model needs to be rebuild. Otherwise, load the existing model with \n",
    "`text_price_predictor = joblib.load('text_price_pred_pipeline.pkl')`"
   ]
  },
  {
   "cell_type": "code",
   "execution_count": 6,
   "metadata": {},
   "outputs": [],
   "source": [
    "# # Build pipeline\n",
    "# text_labels = df['pricerange']\n",
    "# text_features = desc_vect\n",
    "# np.isnan(text_labels).any()\n",
    "\n",
    "# X_train, X_test, y_train, y_test = train_test_split(text_features, text_labels, test_size=0.2, random_state=42)\n",
    "\n",
    "# # clf = MultinomialNB().fit(X_train, y_train)\n",
    "# # accuracy/ narrowing word scope: 0.70815450643776823\n",
    "\n",
    "# # Score on the training set was:0.74248927038626611\n",
    "# pipeline = RandomForestClassifier(\n",
    "#     bootstrap=True, criterion=\"entropy\", n_estimators=100)\n",
    "\n",
    "# pipeline.fit(X_train, y_train)\n",
    "# y_pred = pipeline.predict(X_test)\n",
    "# acc = accuracy_score(y_test, y_pred)\n",
    "# print(acc)\n",
    "\n",
    "# # Saving pipeline so we can use it in future\n",
    "# joblib.dump(pipeline, 'text_price_pred_pipeline.pkl') "
   ]
  },
  {
   "cell_type": "markdown",
   "metadata": {},
   "source": [
    "## Price prediction, taking into account feature columns and price range prediction"
   ]
  },
  {
   "cell_type": "code",
   "execution_count": 7,
   "metadata": {},
   "outputs": [],
   "source": [
    "from sklearn import preprocessing\n",
    "\n",
    "desc_text_clean = clean_text(df['property_description'])\n",
    "desc_vect = get_vectorized_data(desc_text_clean)\n",
    "\n",
    "text_price_predictor = joblib.load('text_price_pred_pipeline.pkl') \n",
    "y_pred = text_price_predictor.predict(desc_vect)\n",
    "df['range_pred'] = y_pred\n",
    "\n",
    "features = ['seller_id','seller_type','no_of_photos','available_for','area','furnished','bathrooms',\n",
    "            'beds','Cable Television','Dryer','Garden / Patio / Balcony','Washing Machine',\n",
    "            'Serviced Property','Parking','Pets Allowed','Wheelchair Access','Central Heating',\n",
    "            'Microwave','Smoking','Dishwasher','House Alarm','Internet','range_pred']\n",
    "\n",
    "target = \"price\"\n",
    "\n",
    "\n",
    "X_features = df[features]\n",
    "Y = df[target]\n",
    "\n",
    "X = preprocessing.StandardScaler().fit_transform(X_features)\n"
   ]
  },
  {
   "cell_type": "code",
   "execution_count": 8,
   "metadata": {},
   "outputs": [
    {
     "name": "stdout",
     "output_type": "stream",
     "text": [
      "(1164, 23)\n",
      "(1164,)\n"
     ]
    }
   ],
   "source": [
    "print(X.shape)\n",
    "print(Y.shape)"
   ]
  },
  {
   "cell_type": "markdown",
   "metadata": {},
   "source": [
    "# Build Model with X & Y"
   ]
  },
  {
   "cell_type": "markdown",
   "metadata": {},
   "source": [
    "## Trying Linear Regression"
   ]
  },
  {
   "cell_type": "code",
   "execution_count": 9,
   "metadata": {},
   "outputs": [
    {
     "name": "stdout",
     "output_type": "stream",
     "text": [
      "Accuracy: 0.69418934109\n"
     ]
    },
    {
     "name": "stderr",
     "output_type": "stream",
     "text": [
      "/Users/heididuchting/anaconda/envs/dlnd/lib/python3.6/site-packages/scipy/linalg/basic.py:1018: RuntimeWarning: internal gelsd driver lwork query error, required iwork dimension not returned. This is likely the result of LAPACK bug 0038, fixed in LAPACK 3.2.2 (released July 21, 2010). Falling back to 'gelss' driver.\n",
      "  warnings.warn(mesg, RuntimeWarning)\n"
     ]
    },
    {
     "data": {
      "text/plain": [
       "<matplotlib.text.Text at 0x116795d68>"
      ]
     },
     "execution_count": 9,
     "metadata": {},
     "output_type": "execute_result"
    },
    {
     "data": {
      "image/png": "[encoded data removed]",
      "text/plain": [
       "<matplotlib.figure.Figure at 0x110c91ba8>"
      ]
     },
     "metadata": {},
     "output_type": "display_data"
    }
   ],
   "source": [
    "from sklearn.linear_model import LinearRegression\n",
    "from sklearn.model_selection import train_test_split\n",
    "from sklearn.metrics import r2_score\n",
    "\n",
    "X_train, X_test, Y_train, Y_test = train_test_split(X, Y, test_size = 0.2, random_state = 5)\n",
    "\n",
    "lm = LinearRegression()\n",
    "lm.fit(X_train, Y_train)\n",
    "\n",
    "Y_pred = lm.predict(X_test)\n",
    "acc = r2_score(Y_test, Y_pred)\n",
    "print(\"Accuracy: \" + str(acc))\n",
    "\n",
    "plt.scatter(Y_test, Y_pred, color=['green','blue'])\n",
    "plt.xlabel(\"Prices: $Y_i$\")\n",
    "plt.ylabel(\"Predicted prices: $\\hat{Y}_i$\")\n",
    "plt.title(\"Prices vs Predicted prices: $Y_i$ vs $\\hat{Y}_i$\")"
   ]
  },
  {
   "cell_type": "markdown",
   "metadata": {},
   "source": [
    "## Looking for a good model using TPOT"
   ]
  },
  {
   "cell_type": "code",
   "execution_count": null,
   "metadata": {},
   "outputs": [],
   "source": [
    "from tpot import TPOTRegressor\n",
    "from sklearn.linear_model import LinearRegression\n",
    "from sklearn.model_selection import train_test_split\n",
    "\n",
    "X_train, X_test, Y_train, Y_test = train_test_split(X, Y, test_size = 0.2, random_state = 5)\n",
    "\n",
    "tpot = TPOTRegressor(generations=10, population_size=50, verbosity=2)\n",
    "tpot.fit(X_train, Y_train)\n",
    "print(tpot.score(X_test, Y_test))\n",
    "tpot.export('daft_rental_tpot.py')"
   ]
  },
  {
   "cell_type": "markdown",
   "metadata": {},
   "source": [
    "# Trying Models suggested by TPOT\n",
    "\n",
    "## StackingEstimator"
   ]
  },
  {
   "cell_type": "code",
   "execution_count": 10,
   "metadata": {},
   "outputs": [
    {
     "name": "stdout",
     "output_type": "stream",
     "text": [
      "Accuracy: 0.453129062867\n"
     ]
    }
   ],
   "source": [
    "import numpy as np\n",
    "\n",
    "from sklearn.ensemble import GradientBoostingRegressor\n",
    "from sklearn.linear_model import LassoLarsCV\n",
    "from sklearn.model_selection import train_test_split\n",
    "from sklearn.pipeline import make_pipeline, make_union\n",
    "from tpot.builtins import StackingEstimator\n",
    "\n",
    "training_features, testing_features, training_target, testing_target = \\\n",
    "    train_test_split(X, Y, random_state=42)\n",
    "\n",
    "exported_pipeline = make_pipeline(\n",
    "    StackingEstimator(estimator=GradientBoostingRegressor(\n",
    "        alpha=0.99, \n",
    "        learning_rate=0.1, \n",
    "        loss=\"huber\",\n",
    "        max_depth=4, \n",
    "        max_features=0.7, \n",
    "        min_samples_leaf=14, \n",
    "        min_samples_split=16, \n",
    "        n_estimators=100, \n",
    "        subsample=0.9000000000000001)),\n",
    "    LassoLarsCV(normalize=False)\n",
    ")\n",
    "\n",
    "exported_pipeline.fit(training_features, training_target)\n",
    "Y_pred = exported_pipeline.predict(testing_features)\n",
    "acc = r2_score(testing_target, Y_pred)\n",
    "print(\"Accuracy: \" + str(acc))\n",
    "\n",
    "\n",
    "# plt.scatter(testing_target, Y_pred, color=['green','blue'])\n",
    "# plt.xlabel(\"Prices: $Y_i$\")\n",
    "# plt.ylabel(\"Predicted prices: $\\hat{Y}_i$\")\n",
    "# plt.title(\"Prices vs Predicted prices: $Y_i$ vs $\\hat{Y}_i$\")\n"
   ]
  },
  {
   "cell_type": "markdown",
   "metadata": {},
   "source": [
    "## XGBRegressor"
   ]
  },
  {
   "cell_type": "code",
   "execution_count": 13,
   "metadata": {},
   "outputs": [
    {
     "name": "stdout",
     "output_type": "stream",
     "text": [
      "Accuracy: 0.782509417142\n"
     ]
    },
    {
     "data": {
      "text/plain": [
       "<matplotlib.text.Text at 0x117509550>"
      ]
     },
     "execution_count": 13,
     "metadata": {},
     "output_type": "execute_result"
    },
    {
     "data": {
      "image/png": "[encoded data removed]",
      "text/plain": [
       "<matplotlib.figure.Figure at 0x1173bf0b8>"
      ]
     },
     "metadata": {},
     "output_type": "display_data"
    }
   ],
   "source": [
    "import numpy as np\n",
    "\n",
    "from sklearn.model_selection import train_test_split\n",
    "from xgboost import XGBRegressor\n",
    "\n",
    "training_features, testing_features, training_target, testing_target = \\\n",
    "    train_test_split(X, Y, random_state=88)\n",
    "    \n",
    "\n",
    "#exported_pipeline = XGBRegressor(max_depth=4, min_child_weight=7, nthread=1, subsample=0.7500000000000001)\n",
    "exported_pipeline = XGBRegressor(\n",
    "    learning_rate=0.06, max_depth=5, min_child_weight=6, \n",
    "    n_estimators=120, nthread=1, subsample=0.7500000000000001)\n",
    "\n",
    "exported_pipeline.fit(training_features, training_target)\n",
    "pred_Y = exported_pipeline.predict(testing_features)\n",
    "acc = r2_score(testing_target, pred_Y)\n",
    "print(\"Accuracy: \" + str(acc))\n",
    "\n",
    "plt.scatter(testing_target, pred_Y, color=['green','blue'])\n",
    "plt.xlabel(\"Prices: $Y_i$\")\n",
    "plt.ylabel(\"Predicted prices: $\\hat{Y}_i$\")\n",
    "plt.title(\"Prices vs Predicted prices: $Y_i$ vs $\\hat{Y}_i$\")"
   ]
  },
  {
   "cell_type": "markdown",
   "metadata": {},
   "source": [
    "## GradientBoostingRegressor"
   ]
  },
  {
   "cell_type": "code",
   "execution_count": 14,
   "metadata": {},
   "outputs": [
    {
     "name": "stdout",
     "output_type": "stream",
     "text": [
      "Accuracy: 0.76918766974\n"
     ]
    },
    {
     "data": {
      "text/plain": [
       "<matplotlib.text.Text at 0x1176b1048>"
      ]
     },
     "execution_count": 14,
     "metadata": {},
     "output_type": "execute_result"
    },
    {
     "data": {
      "image/png": "[encoded data removed]",
      "text/plain": [
       "<matplotlib.figure.Figure at 0x1176c4208>"
      ]
     },
     "metadata": {},
     "output_type": "display_data"
    }
   ],
   "source": [
    "from sklearn.ensemble import GradientBoostingRegressor\n",
    "from sklearn.pipeline import make_pipeline\n",
    "from sklearn.preprocessing import MaxAbsScaler, StandardScaler\n",
    "\n",
    "training_features, testing_features, training_target, testing_target = \\\n",
    "    train_test_split(X, Y, random_state=88)\n",
    "\n",
    "# Score on the training set was:-127197.06953026657\n",
    "exported_pipeline = make_pipeline(\n",
    "    StandardScaler(),\n",
    "    MaxAbsScaler(),\n",
    "    StandardScaler(),\n",
    "    GradientBoostingRegressor(\n",
    "        alpha=0.95, learning_rate=0.1, loss=\"huber\",\n",
    "        max_depth=5, max_features=0.9500000000000001, min_samples_leaf=19, \n",
    "        min_samples_split=2, n_estimators=100, subsample=1.0)\n",
    ")\n",
    "\n",
    "\n",
    "exported_pipeline.fit(training_features, training_target)\n",
    "results = exported_pipeline.predict(testing_features)\n",
    "acc = r2_score(testing_target, results)\n",
    "print(\"Accuracy: \" + str(acc))\n",
    "\n",
    "plt.scatter(testing_target, results, color=['green','blue'])\n",
    "plt.xlabel(\"Prices: $Y_i$\")\n",
    "plt.ylabel(\"Predicted prices: $\\hat{Y}_i$\")\n",
    "plt.title(\"Prices vs Predicted prices: $Y_i$ vs $\\hat{Y}_i$\")"
   ]
  },
  {
   "cell_type": "markdown",
   "metadata": {},
   "source": [
    "## Notes\n",
    "- Accuracy increased after 'text to pricerange' classification was added.\n",
    "- 'text to pricerange' classification accuracy can probably be increased by using an **LSTM** network instead of basic bag of words\n",
    "- need more data for training. "
   ]
  },
  {
   "cell_type": "code",
   "execution_count": null,
   "metadata": {},
   "outputs": [],
   "source": []
  }
 ],
 "metadata": {
  "kernelspec": {
   "display_name": "Python 3",
   "language": "python",
   "name": "python3"
  },
  "language_info": {
   "codemirror_mode": {
    "name": "ipython",
    "version": 3
   },
   "file_extension": ".py",
   "mimetype": "text/x-python",
   "name": "python",
   "nbconvert_exporter": "python",
   "pygments_lexer": "ipython3",
   "version": "3.6.1"
  }
 },
 "nbformat": 4,
 "nbformat_minor": 2
}
